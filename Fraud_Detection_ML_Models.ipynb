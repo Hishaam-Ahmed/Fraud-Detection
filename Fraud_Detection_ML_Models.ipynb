{
 "cells": [
  {
   "cell_type": "markdown",
   "id": "opening-captain",
   "metadata": {},
   "source": [
    "# Machine Learning Model Deployment for Fraud Detection"
   ]
  },
  {
   "cell_type": "markdown",
   "id": "elect-southeast",
   "metadata": {},
   "source": [
    "In my analysis notebook for this dataset, I identified the factors for detecting a fraud transaction. \n",
    "\n",
    "In this notebook, I will deploy machine learning models to predict frauds"
   ]
  },
  {
   "cell_type": "markdown",
   "id": "collaborative-genealogy",
   "metadata": {},
   "source": [
    "## Since this is a classification problem, I will be using:\n",
    "1. Logistic Regression\n",
    "2. k-Nearest Neighbors\n",
    "3. Random Forest Classifier"
   ]
  },
  {
   "cell_type": "code",
   "execution_count": 1,
   "id": "verbal-document",
   "metadata": {},
   "outputs": [],
   "source": [
    "# Importing Analysis Libraries\n",
    "\n",
    "import numpy as np \n",
    "import pandas as pd \n",
    "import matplotlib.pyplot as plt\n",
    "import seaborn as sns\n",
    "%matplotlib inline"
   ]
  },
  {
   "cell_type": "code",
   "execution_count": 2,
   "id": "operating-shanghai",
   "metadata": {},
   "outputs": [],
   "source": [
    "# Importing ML Libraries\n",
    "\n",
    "from sklearn.model_selection import train_test_split\n",
    "from sklearn import metrics\n",
    "from sklearn.linear_model import LogisticRegression\n",
    "from sklearn.neighbors import KNeighborsClassifier\n",
    "from sklearn.ensemble import RandomForestClassifier\n",
    "from sklearn import svm\n",
    "from sklearn.preprocessing import LabelEncoder\n",
    "from sklearn.feature_selection import mutual_info_regression\n",
    "from sklearn.metrics import mean_squared_error, r2_score\n",
    "from sklearn.metrics import confusion_matrix, classification_report, accuracy_score, mean_absolute_error"
   ]
  },
  {
   "cell_type": "code",
   "execution_count": 3,
   "id": "pregnant-giant",
   "metadata": {},
   "outputs": [],
   "source": [
    "df = pd.read_csv('fraud_dataset_example.csv')"
   ]
  },
  {
   "cell_type": "code",
   "execution_count": 4,
   "id": "auburn-ordinary",
   "metadata": {},
   "outputs": [
    {
     "data": {
      "text/html": [
       "<div>\n",
       "<style scoped>\n",
       "    .dataframe tbody tr th:only-of-type {\n",
       "        vertical-align: middle;\n",
       "    }\n",
       "\n",
       "    .dataframe tbody tr th {\n",
       "        vertical-align: top;\n",
       "    }\n",
       "\n",
       "    .dataframe thead th {\n",
       "        text-align: right;\n",
       "    }\n",
       "</style>\n",
       "<table border=\"1\" class=\"dataframe\">\n",
       "  <thead>\n",
       "    <tr style=\"text-align: right;\">\n",
       "      <th></th>\n",
       "      <th>step</th>\n",
       "      <th>type</th>\n",
       "      <th>amount</th>\n",
       "      <th>nameOrig</th>\n",
       "      <th>oldbalanceOrg</th>\n",
       "      <th>newbalanceOrig</th>\n",
       "      <th>nameDest</th>\n",
       "      <th>oldbalanceDest</th>\n",
       "      <th>newbalanceDest</th>\n",
       "      <th>isFraud</th>\n",
       "      <th>isFlaggedFraud</th>\n",
       "    </tr>\n",
       "  </thead>\n",
       "  <tbody>\n",
       "    <tr>\n",
       "      <th>0</th>\n",
       "      <td>1</td>\n",
       "      <td>PAYMENT</td>\n",
       "      <td>9839.64</td>\n",
       "      <td>C1231006815</td>\n",
       "      <td>170136.0</td>\n",
       "      <td>160296.36</td>\n",
       "      <td>M1979787155</td>\n",
       "      <td>0.0</td>\n",
       "      <td>0.0</td>\n",
       "      <td>0</td>\n",
       "      <td>0</td>\n",
       "    </tr>\n",
       "    <tr>\n",
       "      <th>1</th>\n",
       "      <td>1</td>\n",
       "      <td>PAYMENT</td>\n",
       "      <td>1864.28</td>\n",
       "      <td>C1666544295</td>\n",
       "      <td>21249.0</td>\n",
       "      <td>19384.72</td>\n",
       "      <td>M2044282225</td>\n",
       "      <td>0.0</td>\n",
       "      <td>0.0</td>\n",
       "      <td>0</td>\n",
       "      <td>0</td>\n",
       "    </tr>\n",
       "    <tr>\n",
       "      <th>2</th>\n",
       "      <td>1</td>\n",
       "      <td>TRANSFER</td>\n",
       "      <td>181.00</td>\n",
       "      <td>C1305486145</td>\n",
       "      <td>181.0</td>\n",
       "      <td>0.00</td>\n",
       "      <td>C553264065</td>\n",
       "      <td>0.0</td>\n",
       "      <td>0.0</td>\n",
       "      <td>1</td>\n",
       "      <td>0</td>\n",
       "    </tr>\n",
       "    <tr>\n",
       "      <th>3</th>\n",
       "      <td>1</td>\n",
       "      <td>CASH_OUT</td>\n",
       "      <td>181.00</td>\n",
       "      <td>C840083671</td>\n",
       "      <td>181.0</td>\n",
       "      <td>0.00</td>\n",
       "      <td>C38997010</td>\n",
       "      <td>21182.0</td>\n",
       "      <td>0.0</td>\n",
       "      <td>1</td>\n",
       "      <td>0</td>\n",
       "    </tr>\n",
       "    <tr>\n",
       "      <th>4</th>\n",
       "      <td>1</td>\n",
       "      <td>PAYMENT</td>\n",
       "      <td>11668.14</td>\n",
       "      <td>C2048537720</td>\n",
       "      <td>41554.0</td>\n",
       "      <td>29885.86</td>\n",
       "      <td>M1230701703</td>\n",
       "      <td>0.0</td>\n",
       "      <td>0.0</td>\n",
       "      <td>0</td>\n",
       "      <td>0</td>\n",
       "    </tr>\n",
       "  </tbody>\n",
       "</table>\n",
       "</div>"
      ],
      "text/plain": [
       "   step      type    amount     nameOrig  oldbalanceOrg  newbalanceOrig  \\\n",
       "0     1   PAYMENT   9839.64  C1231006815       170136.0       160296.36   \n",
       "1     1   PAYMENT   1864.28  C1666544295        21249.0        19384.72   \n",
       "2     1  TRANSFER    181.00  C1305486145          181.0            0.00   \n",
       "3     1  CASH_OUT    181.00   C840083671          181.0            0.00   \n",
       "4     1   PAYMENT  11668.14  C2048537720        41554.0        29885.86   \n",
       "\n",
       "      nameDest  oldbalanceDest  newbalanceDest  isFraud  isFlaggedFraud  \n",
       "0  M1979787155             0.0             0.0        0               0  \n",
       "1  M2044282225             0.0             0.0        0               0  \n",
       "2   C553264065             0.0             0.0        1               0  \n",
       "3    C38997010         21182.0             0.0        1               0  \n",
       "4  M1230701703             0.0             0.0        0               0  "
      ]
     },
     "execution_count": 4,
     "metadata": {},
     "output_type": "execute_result"
    }
   ],
   "source": [
    "df.head(5)"
   ]
  },
  {
   "cell_type": "markdown",
   "id": "unlike-there",
   "metadata": {},
   "source": [
    "## Feature Selection"
   ]
  },
  {
   "cell_type": "code",
   "execution_count": 5,
   "id": "sunrise-patrick",
   "metadata": {},
   "outputs": [],
   "source": [
    "# Label encoding for 'type' column\n",
    "from sklearn.preprocessing import LabelEncoder\n",
    "\n",
    "l = LabelEncoder()\n",
    "df['type_code'] = l.fit_transform(df['type'])"
   ]
  },
  {
   "cell_type": "markdown",
   "id": "laden-webmaster",
   "metadata": {},
   "source": [
    "type_code is now the numeric representation of type column. Guide:\n",
    "\n",
    "0 = CASH_IN\n",
    "1 = CASH_OUT\n",
    "2 = DEBIT\n",
    "3 = PAYMENT\n",
    "4 = TRANSFER"
   ]
  },
  {
   "cell_type": "code",
   "execution_count": 6,
   "id": "interracial-enterprise",
   "metadata": {},
   "outputs": [],
   "source": [
    "# Dropping isFlaggedFraud since it is false in all rows and also dropping 'type' since we now have type_code\n",
    "X = df.drop(['isFlaggedFraud', 'isFraud', 'type', 'nameOrig', 'nameDest'], axis=1)\n",
    "\n",
    "y = df['isFraud']"
   ]
  },
  {
   "cell_type": "code",
   "execution_count": 7,
   "id": "relevant-accommodation",
   "metadata": {},
   "outputs": [
    {
     "data": {
      "text/plain": [
       "type_code         0.003149\n",
       "amount            0.001431\n",
       "oldbalanceDest    0.001142\n",
       "newbalanceDest    0.000943\n",
       "step              0.000866\n",
       "oldbalanceOrg     0.000692\n",
       "newbalanceOrig    0.000000\n",
       "Name: MI Scores, dtype: float64"
      ]
     },
     "execution_count": 7,
     "metadata": {},
     "output_type": "execute_result"
    }
   ],
   "source": [
    "from sklearn.feature_selection import mutual_info_regression\n",
    "\n",
    "def make_mi_scores(X, y):\n",
    "    mi_scores = mutual_info_regression(X, y)\n",
    "    mi_scores = pd.Series(mi_scores, name=\"MI Scores\", index=X.columns)\n",
    "    mi_scores = mi_scores.sort_values(ascending=False)\n",
    "    return mi_scores\n",
    "\n",
    "mi_scores = make_mi_scores(X, y)\n",
    "mi_scores[:10]"
   ]
  },
  {
   "cell_type": "code",
   "execution_count": 8,
   "id": "current-clause",
   "metadata": {},
   "outputs": [
    {
     "data": {
      "image/png": "[encoded data removed]",
      "text/plain": [
       "<Figure size 1000x1800 with 1 Axes>"
      ]
     },
     "metadata": {
      "needs_background": "light"
     },
     "output_type": "display_data"
    }
   ],
   "source": [
    "def plot_mi_scores(scores):\n",
    "    scores = scores.sort_values(ascending=True)\n",
    "    width = np.arange(len(scores))\n",
    "    ticks = list(scores.index)\n",
    "    plt.barh(width, scores)\n",
    "    plt.yticks(width, ticks)\n",
    "    plt.title(\"Mutual Information Scores\")\n",
    "\n",
    "\n",
    "plt.figure(dpi=100, figsize=(10, 18))\n",
    "plot_mi_scores(mi_scores)"
   ]
  },
  {
   "cell_type": "markdown",
   "id": "front-walnut",
   "metadata": {},
   "source": [
    "As we can see that oldbalanceDest has the highest score amongst others, followed by amount, newbalanceOrig, newbalanceDest, oldbalanceOrg"
   ]
  },
  {
   "cell_type": "markdown",
   "id": "emerging-dollar",
   "metadata": {},
   "source": [
    "## Train Test Split"
   ]
  },
  {
   "cell_type": "code",
   "execution_count": 9,
   "id": "dependent-panel",
   "metadata": {},
   "outputs": [
    {
     "name": "stdout",
     "output_type": "stream",
     "text": [
      "Training dataset shape: (68080, 7) (68080,)\n",
      "Testing dataset shape: (33533, 7) (33533,)\n"
     ]
    }
   ],
   "source": [
    "X_train, X_test, y_train, y_test = train_test_split(X, y, test_size=0.33, random_state=123)\n",
    "\n",
    "print('Training dataset shape:', X_train.shape, y_train.shape)\n",
    "print('Testing dataset shape:', X_test.shape, y_test.shape)"
   ]
  },
  {
   "cell_type": "markdown",
   "id": "black-bearing",
   "metadata": {},
   "source": [
    "## Logistic Regression"
   ]
  },
  {
   "cell_type": "code",
   "execution_count": 10,
   "id": "sexual-psychiatry",
   "metadata": {},
   "outputs": [
    {
     "name": "stdout",
     "output_type": "stream",
     "text": [
      "MAE: 0.0008648197298183879\n",
      "MSE: 0.0008648197298183879\n",
      "RMSE: 0.029407817494985715\n",
      "              precision    recall  f1-score   support\n",
      "\n",
      "           0       1.00      1.00      1.00     33502\n",
      "           1       0.75      0.10      0.17        31\n",
      "\n",
      "    accuracy                           1.00     33533\n",
      "   macro avg       0.87      0.55      0.59     33533\n",
      "weighted avg       1.00      1.00      1.00     33533\n",
      "\n"
     ]
    }
   ],
   "source": [
    "lr = LogisticRegression()\n",
    "lr.fit(X_train, y_train)\n",
    "lr_pred = lr.predict(X_test)\n",
    "\n",
    "print('MAE:', metrics.mean_absolute_error(y_test, lr_pred))\n",
    "print('MSE:', metrics.mean_squared_error(y_test, lr_pred))\n",
    "print('RMSE:', np.sqrt(metrics.mean_squared_error(y_test, lr_pred)))\n",
    "\n",
    "print(classification_report(y_test, lr_pred))"
   ]
  },
  {
   "cell_type": "markdown",
   "id": "dominant-compensation",
   "metadata": {},
   "source": [
    "## k-Nearest Neighbors"
   ]
  },
  {
   "cell_type": "code",
   "execution_count": 11,
   "id": "serial-growing",
   "metadata": {},
   "outputs": [
    {
     "name": "stdout",
     "output_type": "stream",
     "text": [
      "MAE: 0.0005069632898935377\n",
      "MSE: 0.0005069632898935377\n",
      "RMSE: 0.022515845307106232\n",
      "              precision    recall  f1-score   support\n",
      "\n",
      "           0       1.00      1.00      1.00     33502\n",
      "           1       0.89      0.52      0.65        31\n",
      "\n",
      "    accuracy                           1.00     33533\n",
      "   macro avg       0.94      0.76      0.83     33533\n",
      "weighted avg       1.00      1.00      1.00     33533\n",
      "\n"
     ]
    }
   ],
   "source": [
    "knc = KNeighborsClassifier(n_neighbors=3)\n",
    "knc.fit(X, y)\n",
    "knc_pred = knc.predict(X_test)\n",
    "\n",
    "print('MAE:', metrics.mean_absolute_error(y_test, knc_pred))\n",
    "print('MSE:', metrics.mean_squared_error(y_test, knc_pred))\n",
    "print('RMSE:', np.sqrt(metrics.mean_squared_error(y_test, knc_pred)))\n",
    "\n",
    "print(classification_report(y_test, knc_pred))"
   ]
  },
  {
   "cell_type": "markdown",
   "id": "double-awareness",
   "metadata": {},
   "source": [
    "## Random Forest Classifier"
   ]
  },
  {
   "cell_type": "code",
   "execution_count": 12,
   "id": "crazy-police",
   "metadata": {},
   "outputs": [
    {
     "name": "stdout",
     "output_type": "stream",
     "text": [
      "MAE: 0.0005666060298810127\n",
      "MSE: 0.0005666060298810127\n",
      "RMSE: 0.023803487767153214\n",
      "              precision    recall  f1-score   support\n",
      "\n",
      "           0       1.00      1.00      1.00     33502\n",
      "           1       0.88      0.45      0.60        31\n",
      "\n",
      "    accuracy                           1.00     33533\n",
      "   macro avg       0.94      0.73      0.80     33533\n",
      "weighted avg       1.00      1.00      1.00     33533\n",
      "\n"
     ]
    }
   ],
   "source": [
    "rf = RandomForestClassifier()\n",
    "rf.fit(X_train, y_train)\n",
    "rf_pred = rf.predict(X_test)\n",
    "\n",
    "print('MAE:', metrics.mean_absolute_error(y_test, rf_pred))\n",
    "print('MSE:', metrics.mean_squared_error(y_test, rf_pred))\n",
    "print('RMSE:', np.sqrt(metrics.mean_squared_error(y_test, rf_pred)))\n",
    "\n",
    "print(classification_report(y_test, rf_pred))"
   ]
  },
  {
   "cell_type": "code",
   "execution_count": 13,
   "id": "modified-wagon",
   "metadata": {},
   "outputs": [
    {
     "name": "stdout",
     "output_type": "stream",
     "text": [
      "Model Performance\n",
      "Test Accuracy:  99.9433393970119 %\n",
      "Train Accuracy:\n",
      " 1.0\n",
      "\n"
     ]
    }
   ],
   "source": [
    "print('Model Performance')\n",
    "accuracy = metrics.accuracy_score(y_test, rf_pred)\n",
    "print(\"Test Accuracy: \", accuracy * 100, \"%\")\n",
    "\n",
    "print('Train Accuracy:\\n {}\\n'.format(rf.score(X_train, y_train)))"
   ]
  }
 ],
 "metadata": {
  "kernelspec": {
   "display_name": "Python 3",
   "language": "python",
   "name": "python3"
  },
  "language_info": {
   "codemirror_mode": {
    "name": "ipython",
    "version": 3
   },
   "file_extension": ".py",
   "mimetype": "text/x-python",
   "name": "python",
   "nbconvert_exporter": "python",
   "pygments_lexer": "ipython3",
   "version": "3.6.8"
  }
 },
 "nbformat": 4,
 "nbformat_minor": 5
}
